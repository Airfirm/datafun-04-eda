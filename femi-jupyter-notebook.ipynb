{
 "cells": [
  {
   "cell_type": "markdown",
   "id": "b87abf08",
   "metadata": {},
   "source": [
    "# Oluwafemi Salawu: Exploratory Data Analysis Project\n",
    "\n",
    "# Author: Oluwafemi Salawu\n",
    "\n",
    "# Repository: datafun-04-eda\n",
    "\n",
    "Section 1. Getting Started"
   ]
  },
  {
   "cell_type": "markdown",
   "id": "558793e8",
   "metadata": {},
   "source": [
    "Adding and executing cell"
   ]
  },
  {
   "cell_type": "code",
   "execution_count": 1,
   "id": "1dacfb05",
   "metadata": {},
   "outputs": [
    {
     "name": "stdout",
     "output_type": "stream",
     "text": [
      "Starting out with Jupyter.\n"
     ]
    }
   ],
   "source": [
    "import pandas as pd\n",
    "import numpy as np\n",
    "import statistics\n",
    "\n",
    "print(\"Starting out with Jupyter.\")"
   ]
  },
  {
   "cell_type": "code",
   "execution_count": 2,
   "id": "c19de70f",
   "metadata": {},
   "outputs": [
    {
     "data": {
      "text/plain": [
       "117"
      ]
     },
     "execution_count": 2,
     "metadata": {},
     "output_type": "execute_result"
    }
   ],
   "source": [
    "45 + 72"
   ]
  },
  {
   "cell_type": "code",
   "execution_count": 3,
   "id": "90978390",
   "metadata": {},
   "outputs": [
    {
     "data": {
      "text/plain": [
       "21.75"
      ]
     },
     "execution_count": 3,
     "metadata": {},
     "output_type": "execute_result"
    }
   ],
   "source": [
    "5 * (12.7 - 4) / 2"
   ]
  },
  {
   "cell_type": "code",
   "execution_count": 4,
   "id": "7404f3e6",
   "metadata": {},
   "outputs": [
    {
     "name": "stdout",
     "output_type": "stream",
     "text": [
      "3.2\n"
     ]
    }
   ],
   "source": [
    "# import numpy as np\n",
    "\n",
    "data = [1, 2, 4, 4, 5]\n",
    "avg = np.mean(data)\n",
    "print(avg)  # Output: 3.2"
   ]
  },
  {
   "cell_type": "code",
   "execution_count": 5,
   "id": "84f349b5",
   "metadata": {},
   "outputs": [
    {
     "name": "stdout",
     "output_type": "stream",
     "text": [
      "Stellar Analytics\n",
      "4.8\n",
      "0.1581138830084191\n"
     ]
    }
   ],
   "source": [
    "# import statistics\n",
    "\n",
    "client_satisfaction_scores: list = [4.8, 4.6, 4.9, 5.0, 4.7]\n",
    "mean_score: float = statistics.mean(client_satisfaction_scores)  \n",
    "stdev_score: float = statistics.stdev(client_satisfaction_scores)\n",
    "byline: str = \"Stellar Analytics\"\n",
    "\n",
    "def get_byline() -> str:\n",
    "    return byline\n",
    "\n",
    "def main() -> None:\n",
    "    print(get_byline())\n",
    "    print(mean_score)\n",
    "    print(stdev_score)\n",
    "\n",
    "if __name__ == '__main__':\n",
    "    main()"
   ]
  },
  {
   "cell_type": "code",
   "execution_count": null,
   "id": "1493a94d",
   "metadata": {},
   "outputs": [],
   "source": []
  }
 ],
 "metadata": {
  "kernelspec": {
   "display_name": ".venv",
   "language": "python",
   "name": "python3"
  },
  "language_info": {
   "codemirror_mode": {
    "name": "ipython",
    "version": 3
   },
   "file_extension": ".py",
   "mimetype": "text/x-python",
   "name": "python",
   "nbconvert_exporter": "python",
   "pygments_lexer": "ipython3",
   "version": "3.13.3"
  }
 },
 "nbformat": 4,
 "nbformat_minor": 5
}
