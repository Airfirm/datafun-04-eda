{
 "cells": [
  {
   "cell_type": "markdown",
   "id": "b87abf08",
   "metadata": {},
   "source": [
    "# Oluwafemi Salawu: Exploratory Data Analysis Project\n",
    "\n",
    "# Author: Oluwafemi Salawu\n",
    "\n",
    "# Repository: datafun-04-eda\n",
    "\n",
    "Section 1. Getting Started"
   ]
  },
  {
   "cell_type": "markdown",
   "id": "558793e8",
   "metadata": {},
   "source": [
    "Adding and executing cell"
   ]
  },
  {
   "cell_type": "code",
   "execution_count": 26,
   "id": "1dacfb05",
   "metadata": {},
   "outputs": [
    {
     "name": "stdout",
     "output_type": "stream",
     "text": [
      "Starting out with Jupyter.\n"
     ]
    }
   ],
   "source": [
    "import pandas as pd\n",
    "import numpy as np\n",
    "import statistics\n",
    "\n",
    "print(\"Starting out with Jupyter.\")"
   ]
  },
  {
   "cell_type": "code",
   "execution_count": 27,
   "id": "c19de70f",
   "metadata": {},
   "outputs": [
    {
     "data": {
      "text/plain": [
       "117"
      ]
     },
     "execution_count": 27,
     "metadata": {},
     "output_type": "execute_result"
    }
   ],
   "source": [
    "45 + 72"
   ]
  },
  {
   "cell_type": "code",
   "execution_count": 28,
   "id": "90978390",
   "metadata": {},
   "outputs": [
    {
     "data": {
      "text/plain": [
       "21.75"
      ]
     },
     "execution_count": 28,
     "metadata": {},
     "output_type": "execute_result"
    }
   ],
   "source": [
    "5 * (12.7 - 4) / 2"
   ]
  },
  {
   "cell_type": "code",
   "execution_count": 29,
   "id": "7404f3e6",
   "metadata": {},
   "outputs": [
    {
     "name": "stdout",
     "output_type": "stream",
     "text": [
      "3.2\n"
     ]
    }
   ],
   "source": [
    "# import numpy as np\n",
    "\n",
    "data = [1, 2, 4, 4, 5]\n",
    "avg = np.mean(data)\n",
    "print(avg)  # Output: 3.2"
   ]
  },
  {
   "cell_type": "code",
   "execution_count": 30,
   "id": "84f349b5",
   "metadata": {},
   "outputs": [
    {
     "name": "stdout",
     "output_type": "stream",
     "text": [
      "Stellar Analytics\n",
      "4.8\n",
      "0.1581138830084191\n"
     ]
    }
   ],
   "source": [
    "# import statistics\n",
    "\n",
    "client_satisfaction_scores: list = [4.8, 4.6, 4.9, 5.0, 4.7]\n",
    "mean_score: float = statistics.mean(client_satisfaction_scores)  \n",
    "stdev_score: float = statistics.stdev(client_satisfaction_scores)\n",
    "byline: str = \"Stellar Analytics\"\n",
    "\n",
    "def get_byline() -> str:\n",
    "    return byline\n",
    "\n",
    "def main() -> None:\n",
    "    print(get_byline())\n",
    "    print(mean_score)\n",
    "    print(stdev_score)\n",
    "\n",
    "if __name__ == '__main__':\n",
    "    main()"
   ]
  },
  {
   "cell_type": "code",
   "execution_count": 31,
   "id": "1493a94d",
   "metadata": {},
   "outputs": [
    {
     "name": "stdout",
     "output_type": "stream",
     "text": [
      "(2, 2)\n",
      "    Name  Age\n",
      "0  Alice   25\n",
      "1    Bob   30\n"
     ]
    }
   ],
   "source": [
    "import pandas as pd\n",
    "\n",
    "data = {'Name': ['Alice', 'Bob'], 'Age': [25, 30]}\n",
    "df = pd.DataFrame(data)\n",
    "\n",
    "# Access the shape property (no parentheses)\n",
    "print(df.shape)\n",
    "\n",
    "# Call a method to display the first few rows\n",
    "print(df.head())"
   ]
  },
  {
   "cell_type": "code",
   "execution_count": 32,
   "id": "524ebb6f",
   "metadata": {},
   "outputs": [],
   "source": [
    "data = {'Name': ['Alice', 'Bob'], 'Age': [25, 30]}\n",
    "df = pd.DataFrame(data) "
   ]
  },
  {
   "cell_type": "code",
   "execution_count": 33,
   "id": "548e485f",
   "metadata": {},
   "outputs": [],
   "source": [
    "class Student:\n",
    "    def __init__(self, name):\n",
    "        self._name = name\n",
    "\n",
    "    @property\n",
    "    def name(self):\n",
    "        return self._name"
   ]
  },
  {
   "cell_type": "code",
   "execution_count": 34,
   "id": "501c0091",
   "metadata": {},
   "outputs": [],
   "source": [
    "class Animal:\n",
    "    def speak(self):\n",
    "        raise NotImplementedError(\"Subclasses must implement this base speak() method\")"
   ]
  },
  {
   "cell_type": "code",
   "execution_count": 35,
   "id": "526024ad",
   "metadata": {},
   "outputs": [],
   "source": [
    "class Dog(Animal):\n",
    "    def speak(self):\n",
    "        return \"Woof!\""
   ]
  },
  {
   "cell_type": "code",
   "execution_count": 36,
   "id": "f69fcbef",
   "metadata": {},
   "outputs": [],
   "source": [
    "class Cat(Animal):\n",
    "    def speak(self):\n",
    "        return \"Meow\""
   ]
  },
  {
   "cell_type": "code",
   "execution_count": 37,
   "id": "21ba51de",
   "metadata": {},
   "outputs": [
    {
     "name": "stdout",
     "output_type": "stream",
     "text": [
      "Animal(name='Buddy', age=5)\n"
     ]
    }
   ],
   "source": [
    "from dataclasses import dataclass\n",
    "\n",
    "@dataclass\n",
    "class Animal:\n",
    "    name: str\n",
    "    age: int\n",
    "\n",
    "# Create an instance\n",
    "dog = Animal(\"Buddy\", 5)\n",
    "\n",
    "# Access the attributes and use the auto-generated methods\n",
    "print(dog)  # Output: Animal(name='Buddy', age=5)"
   ]
  },
  {
   "cell_type": "code",
   "execution_count": 38,
   "id": "22506019",
   "metadata": {},
   "outputs": [],
   "source": [
    "from dataclasses import dataclass\n",
    "\n",
    "@dataclass(frozen=True)\n",
    "class Point:\n",
    "    x: int\n",
    "    y: int"
   ]
  }
 ],
 "metadata": {
  "kernelspec": {
   "display_name": ".venv",
   "language": "python",
   "name": "python3"
  },
  "language_info": {
   "codemirror_mode": {
    "name": "ipython",
    "version": 3
   },
   "file_extension": ".py",
   "mimetype": "text/x-python",
   "name": "python",
   "nbconvert_exporter": "python",
   "pygments_lexer": "ipython3",
   "version": "3.13.3"
  }
 },
 "nbformat": 4,
 "nbformat_minor": 5
}
